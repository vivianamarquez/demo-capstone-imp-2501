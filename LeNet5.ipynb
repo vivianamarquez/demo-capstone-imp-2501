{
  "nbformat": 4,
  "nbformat_minor": 0,
  "metadata": {
    "colab": {
      "provenance": [],
      "gpuType": "T4"
    },
    "kernelspec": {
      "name": "python3",
      "display_name": "Python 3"
    },
    "language_info": {
      "name": "python"
    },
    "accelerator": "GPU"
  },
  "cells": [
    {
      "cell_type": "code",
      "execution_count": null,
      "metadata": {
        "id": "0sOjoc5Mayjr"
      },
      "outputs": [],
      "source": [
        "import torch\n",
        "import torch.nn as nn\n",
        "import torch.optim as optim\n",
        "import torchvision\n",
        "from torchvision import datasets, transforms\n",
        "from torch.utils.data import DataLoader\n",
        "import matplotlib.pyplot as plt\n",
        "import torch.nn.functional as F\n",
        "import numpy as np"
      ]
    },
    {
      "cell_type": "code",
      "source": [
        "# Set the device\n",
        "if torch.backends.mps.is_available():\n",
        "    device = torch.device(\"mps\")  # Apple's Metal Performance Shaders\n",
        "elif torch.cuda.is_available():\n",
        "    device = torch.device(\"cuda\")\n",
        "else:\n",
        "    device = torch.device(\"cpu\")\n",
        "\n",
        "print(f\"Using {device} device\")"
      ],
      "metadata": {
        "colab": {
          "base_uri": "https://localhost:8080/"
        },
        "id": "e_mzLXCkbWa0",
        "outputId": "39e06255-9e0e-46bc-a8b7-253fd623eb45"
      },
      "execution_count": null,
      "outputs": [
        {
          "output_type": "stream",
          "name": "stdout",
          "text": [
            "Using cuda device\n"
          ]
        }
      ]
    },
    {
      "cell_type": "code",
      "source": [
        "# Define the LeNet-5 architecture\n",
        "class LeNet5(nn.Module):\n",
        "    def __init__(self):\n",
        "        super(LeNet5, self).__init__()\n",
        "\n",
        "        # Convolutional layer 1: 1 input channel (for grayscale images), 6 output channels, 5x5 kernel, 2 padding\n",
        "        self.conv1 = nn.Conv2d(1, 6, kernel_size=5, padding=2)\n",
        "        self.sigmoid1 = nn.Sigmoid()\n",
        "        # Subsampling layer (AvgPooling) with 2x2 kernel and stride 2\n",
        "        self.pool1 = nn.AvgPool2d(kernel_size=2, stride=2)\n",
        "\n",
        "        # Convolutional layer 2: 6 input channels, 16 output channels, 5x5 kernel\n",
        "        self.conv2 = nn.Conv2d(6, 16, kernel_size=5)\n",
        "        self.sigmoid2 = nn.Sigmoid()\n",
        "        # Subsampling layer (AvgPooling) with 2x2 kernel and stride 2\n",
        "        self.pool2 = nn.AvgPool2d(kernel_size=2, stride=2)\n",
        "\n",
        "        # Fully connected layer 1: 16*5*5 input features, 120 output features\n",
        "        self.fc1 = nn.Linear(16*5*5, 120)\n",
        "        self.sigmoid3 = nn.Sigmoid()\n",
        "        # Fully connected layer 2: 120 input features, 84 output features\n",
        "        self.fc2 = nn.Linear(120, 84)\n",
        "        self.sigmoid4 = nn.Sigmoid()\n",
        "        # Output layer: 84 input features, 10 output features for 10 classes\n",
        "        self.fc3 = nn.Linear(84, 10)\n",
        "\n",
        "\n",
        "    def forward(self, x):\n",
        "        # Input shape of the image is assumed to be [batch_size, 1, 32, 32]\n",
        "\n",
        "        # Pass the input through the first convolutional layer, then activation, then pool\n",
        "        x = self.pool1(self.sigmoid1(self.conv1(x)))\n",
        "        # Pass the output through the second convolutional layer, then activation, then pool\n",
        "        x = self.pool2(self.sigmoid2(self.conv2(x)))\n",
        "\n",
        "        # Flatten the output for the fully connected layer\n",
        "        x = x.view(x.size(0), -1)  # Flatten the tensor\n",
        "\n",
        "        # Pass the flattened output through the first fully connected layer, then activation\n",
        "        x = self.sigmoid3(self.fc1(x))\n",
        "        # Pass the output through the second fully connected layer, then activation\n",
        "        x = self.sigmoid4(self.fc2(x))\n",
        "        # Pass the output through the final output layer\n",
        "        x = self.fc3(x)\n",
        "\n",
        "        return x"
      ],
      "metadata": {
        "id": "7NKgPw-ta94r"
      },
      "execution_count": null,
      "outputs": []
    },
    {
      "cell_type": "code",
      "source": [
        "# Instantiate the network\n",
        "lenet5 = LeNet5().to(device)"
      ],
      "metadata": {
        "id": "CcvxertQbEri"
      },
      "execution_count": null,
      "outputs": []
    },
    {
      "cell_type": "code",
      "source": [
        "# Loss function\n",
        "criterion = nn.CrossEntropyLoss()"
      ],
      "metadata": {
        "id": "CxnzX32kbNRt"
      },
      "execution_count": null,
      "outputs": []
    },
    {
      "cell_type": "code",
      "source": [
        "# Optimizer (SGD is used in the original paper)\n",
        "optimizer = optim.Adam(lenet5.parameters(), lr=0.001)"
      ],
      "metadata": {
        "id": "rrmpHhOCbOn6"
      },
      "execution_count": null,
      "outputs": []
    },
    {
      "cell_type": "code",
      "source": [
        "# Dataset loading\n",
        "transform = transforms.Compose([\n",
        "    transforms.Resize((28, 28)),  # Resize images to 28x28\n",
        "    transforms.ToTensor(),\n",
        "    transforms.Normalize((0.5,), (0.5,))\n",
        "])\n",
        "\n",
        "train_dataset = datasets.MNIST(root='./data', train=True, download=True, transform=transform)\n",
        "test_dataset = datasets.MNIST(root='./data', train=False, download=True, transform=transform)\n",
        "\n",
        "train_loader = DataLoader(train_dataset, batch_size=64, shuffle=True)\n",
        "test_loader = DataLoader(test_dataset, batch_size=1000, shuffle=True)"
      ],
      "metadata": {
        "id": "DJiHSQvrbiJH"
      },
      "execution_count": null,
      "outputs": []
    },
    {
      "cell_type": "code",
      "source": [
        "# Training loop\n",
        "for epoch in range(10):  # loop over the dataset multiple times\n",
        "    running_loss = 0.0\n",
        "    for i, data in enumerate(train_loader, 0):\n",
        "        # get the inputs; data is a list of [inputs, labels]\n",
        "        inputs, labels = data[0].to(device), data[1].to(device)\n",
        "\n",
        "        # zero the parameter gradients\n",
        "        optimizer.zero_grad()\n",
        "\n",
        "        # forward + backward + optimize\n",
        "        outputs = lenet5(inputs)\n",
        "        loss = criterion(outputs, labels)\n",
        "        loss.backward()\n",
        "        optimizer.step()\n",
        "\n",
        "        # print statistics\n",
        "        running_loss += loss.item()\n",
        "        if i % 200 == 199:    # print every 200 mini-batches\n",
        "            print(f'[{epoch + 1}, {i + 1:5d}] loss: {running_loss / 200:.3f}')\n",
        "            running_loss = 0.0\n",
        "\n",
        "print('Finished Training')"
      ],
      "metadata": {
        "colab": {
          "base_uri": "https://localhost:8080/"
        },
        "id": "NCMGGpR8bmtr",
        "outputId": "b9ae2ae8-b893-42c8-d2b2-c9e4c6059f07"
      },
      "execution_count": null,
      "outputs": [
        {
          "output_type": "stream",
          "name": "stdout",
          "text": [
            "[1,   200] loss: 2.080\n",
            "[1,   400] loss: 0.895\n",
            "[1,   600] loss: 0.498\n",
            "[1,   800] loss: 0.362\n",
            "[2,   200] loss: 0.266\n",
            "[2,   400] loss: 0.239\n",
            "[2,   600] loss: 0.214\n",
            "[2,   800] loss: 0.195\n",
            "[3,   200] loss: 0.163\n",
            "[3,   400] loss: 0.156\n",
            "[3,   600] loss: 0.143\n",
            "[3,   800] loss: 0.139\n",
            "[4,   200] loss: 0.126\n",
            "[4,   400] loss: 0.115\n",
            "[4,   600] loss: 0.117\n",
            "[4,   800] loss: 0.109\n",
            "[5,   200] loss: 0.097\n",
            "[5,   400] loss: 0.099\n",
            "[5,   600] loss: 0.096\n",
            "[5,   800] loss: 0.088\n",
            "[6,   200] loss: 0.083\n",
            "[6,   400] loss: 0.079\n",
            "[6,   600] loss: 0.077\n",
            "[6,   800] loss: 0.078\n",
            "[7,   200] loss: 0.074\n",
            "[7,   400] loss: 0.065\n",
            "[7,   600] loss: 0.076\n",
            "[7,   800] loss: 0.067\n",
            "[8,   200] loss: 0.062\n",
            "[8,   400] loss: 0.063\n",
            "[8,   600] loss: 0.064\n",
            "[8,   800] loss: 0.060\n",
            "[9,   200] loss: 0.051\n",
            "[9,   400] loss: 0.058\n",
            "[9,   600] loss: 0.061\n",
            "[9,   800] loss: 0.056\n",
            "[10,   200] loss: 0.049\n",
            "[10,   400] loss: 0.046\n",
            "[10,   600] loss: 0.056\n",
            "[10,   800] loss: 0.049\n",
            "Finished Training\n"
          ]
        }
      ]
    },
    {
      "cell_type": "code",
      "source": [
        "# Testing loop\n",
        "correct = 0\n",
        "total = 0\n",
        "with torch.no_grad():\n",
        "    for data in test_loader:\n",
        "        images, labels = data[0].to(device), data[1].to(device)\n",
        "        outputs = lenet5(images)\n",
        "        _, predicted = torch.max(outputs.data, 1)\n",
        "        total += labels.size(0)\n",
        "        correct += (predicted == labels).sum().item()\n",
        "\n",
        "print('Accuracy of the network on the 10000 test images: %d %%' % (\n",
        "    100 * correct / total))"
      ],
      "metadata": {
        "colab": {
          "base_uri": "https://localhost:8080/"
        },
        "id": "4HQpbhH0btQg",
        "outputId": "c09bfff5-519b-48a0-eaf8-4323fd4d52c4"
      },
      "execution_count": null,
      "outputs": [
        {
          "output_type": "stream",
          "name": "stdout",
          "text": [
            "Accuracy of the network on the 10000 test images: 98 %\n"
          ]
        }
      ]
    },
    {
      "cell_type": "code",
      "source": [
        "# Function to show images\n",
        "def imshow(img):\n",
        "    img = img / 2 + 0.5  # unnormalize\n",
        "    npimg = img.numpy()\n",
        "    plt.imshow(np.transpose(npimg, (1, 2, 0)))\n",
        "    plt.show()"
      ],
      "metadata": {
        "id": "ni9qJ3wVbv3G"
      },
      "execution_count": null,
      "outputs": []
    },
    {
      "cell_type": "code",
      "source": [
        "# Function to visualize model predictions\n",
        "def visualize_model_predictions(model, data_loader, num_images=5):\n",
        "    images, labels = next(iter(data_loader))\n",
        "    images, labels = images[:num_images].to(device), labels[:num_images].to(device)\n",
        "\n",
        "    # Get predictions\n",
        "    with torch.no_grad():\n",
        "        model.eval()  # Set model to evaluate mode\n",
        "        outputs = model(images)\n",
        "        _, predicted = torch.max(outputs, 1)\n",
        "\n",
        "    # Plot the results\n",
        "    imshow(torchvision.utils.make_grid(images.cpu()))\n",
        "    print('GroundTruth: ', ' '.join(f'{classes[labels[j]]:5s}' for j in range(num_images)))\n",
        "    print('Predicted: ', ' '.join(f'{classes[predicted[j]]:5s}' for j in range(num_images)))"
      ],
      "metadata": {
        "id": "takn9edfc-eZ"
      },
      "execution_count": null,
      "outputs": []
    },
    {
      "cell_type": "code",
      "source": [
        "classes = ('0', '1', '2', '3', '4', '5', '6', '7', '8', '9')"
      ],
      "metadata": {
        "id": "jNpyGad-dAXp"
      },
      "execution_count": null,
      "outputs": []
    },
    {
      "cell_type": "code",
      "source": [
        "visualize_model_predictions(lenet5, test_loader)"
      ],
      "metadata": {
        "colab": {
          "base_uri": "https://localhost:8080/",
          "height": 204
        },
        "id": "ezMGbhQTdEGq",
        "outputId": "25181fd9-e568-4b55-8137-955ca7f1b2b6"
      },
      "execution_count": null,
      "outputs": [
        {
          "output_type": "display_data",
          "data": {
            "text/plain": [
              "<Figure size 640x480 with 1 Axes>"
            ],
            "image/png": "[encoded data removed]"
          },
          "metadata": {}
        },
        {
          "output_type": "stream",
          "name": "stdout",
          "text": [
            "GroundTruth:  1     8     6     3     6    \n",
            "Predicted:  1     8     6     3     6    \n"
          ]
        }
      ]
    },
    {
      "cell_type": "markdown",
      "source": [
        "# Feature visualization"
      ],
      "metadata": {
        "id": "XGe2XUCTfMQQ"
      }
    },
    {
      "cell_type": "code",
      "source": [
        "# Define a function to visualize the feature maps\n",
        "def visualize_feature_maps(model, input_image, layer_number):\n",
        "    model.eval()  # Set the model to evaluation mode\n",
        "    activation = {}\n",
        "\n",
        "    # Define a function that will copy the output of a layer\n",
        "    def get_activation(name):\n",
        "        def hook(model, input, output):\n",
        "            activation[name] = output.detach()\n",
        "        return hook\n",
        "\n",
        "    # Attach the hook to the desired layer\n",
        "    layer_name = f'conv{layer_number}'\n",
        "    getattr(model, layer_name).register_forward_hook(get_activation(layer_name))\n",
        "\n",
        "    # Perform a forward pass through the model with the input image\n",
        "    output = model(input_image)\n",
        "\n",
        "    # Detach our hooks\n",
        "    for name, layer in model.named_children():\n",
        "        if name == layer_name:\n",
        "            layer._forward_hooks.clear()\n",
        "\n",
        "    # Plot the feature maps\n",
        "    act = activation[layer_name].squeeze()\n",
        "    # Move the activations to CPU and convert to numpy array\n",
        "    act = act.cpu().numpy()\n",
        "\n",
        "    # Depending on the number of feature maps, you may need to adjust the subplot dimensions\n",
        "    num_feature_maps = act.shape[0]\n",
        "    fig, axarr = plt.subplots(figsize=(15, int(num_feature_maps * 2.5)), nrows=num_feature_maps, ncols=1)\n",
        "    for idx in range(num_feature_maps):\n",
        "        ax = axarr if num_feature_maps == 1 else axarr[idx]\n",
        "        ax.imshow(act[idx], cmap='gray')\n",
        "        ax.axis('off')\n",
        "    plt.show()"
      ],
      "metadata": {
        "id": "xypOj6C1e2zl"
      },
      "execution_count": null,
      "outputs": []
    },
    {
      "cell_type": "code",
      "source": [
        "# Fetch one batch of data from the DataLoader\n",
        "dataiter = iter(train_loader)\n",
        "images, labels = next(dataiter)\n",
        "\n",
        "# Move the batch of images and labels to the GPU\n",
        "images, labels = images.cuda(), labels.cuda()\n",
        "\n",
        "# Select the first image from this batch and add an extra batch dimension\n",
        "# Since MNIST is grayscale, there's only one channel\n",
        "input_image = images[0].unsqueeze(0).cuda()  # The shape will now be [1, 1, 32, 32]\n",
        "\n",
        "# Assuming lenet5 is your model and input_image is a single image tensor\n",
        "# To visualize features from the first convolutional layer\n",
        "visualize_feature_maps(lenet5, input_image, 1)"
      ],
      "metadata": {
        "colab": {
          "base_uri": "https://localhost:8080/",
          "height": 1000
        },
        "id": "VNbz2Rr4fSdl",
        "outputId": "e355ff7a-7642-48be-8d2c-23c0faa1f65f"
      },
      "execution_count": null,
      "outputs": [
        {
          "output_type": "display_data",
          "data": {
            "text/plain": [
              "<Figure size 1500x1500 with 6 Axes>"
            ],
            "image/png": "[encoded data removed]"
          },
          "metadata": {}
        }
      ]
    },
    {
      "cell_type": "code",
      "source": [],
      "metadata": {
        "id": "BPNTQmZUmROz"
      },
      "execution_count": null,
      "outputs": []
    }
  ]
}